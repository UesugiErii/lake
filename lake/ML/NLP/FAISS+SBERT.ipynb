{
  "nbformat": 4,
  "nbformat_minor": 0,
  "metadata": {
    "colab": {
      "name": "Untitled0.ipynb",
      "provenance": [],
      "collapsed_sections": []
    },
    "kernelspec": {
      "name": "python3",
      "display_name": "Python 3"
    },
    "accelerator": "GPU"
  },
  "cells": [
    {
      "cell_type": "markdown",
      "metadata": {
        "id": "FNe4jYG7mEYa"
      },
      "source": [
        "[FAISS + SBERT实现的十亿级语义相似性搜索])(https://www.leiphone.com/news/202011/jRU5fk4FpyYZzLMM.html)"
      ]
    },
    {
      "cell_type": "markdown",
      "metadata": {
        "id": "b1VJ3z9nPkB3"
      },
      "source": [
        "### 介绍\n",
        "\n",
        "对训练数据使用sbert进行语句嵌入, 并使用faiss来索引\n",
        "\n",
        "当一个新句子来了后, 先对其进行编码, 然后用faiss查找最相近的句子"
      ]
    },
    {
      "cell_type": "markdown",
      "metadata": {
        "id": "UjkJIEQELgK8"
      },
      "source": [
        "### 安装和加载包"
      ]
    },
    {
      "cell_type": "code",
      "metadata": {
        "colab": {
          "base_uri": "https://localhost:8080/"
        },
        "id": "gRVkZ3wXmJrQ",
        "outputId": "0d589cae-b13b-434a-ff49-218f332ad0bb"
      },
      "source": [
        "!pip install faiss-cpu\n",
        "!pip install -U sentence-transformers"
      ],
      "execution_count": 4,
      "outputs": [
        {
          "output_type": "stream",
          "text": [
            "Requirement already satisfied: faiss-cpu in /usr/local/lib/python3.6/dist-packages (1.6.4.post2)\n",
            "Requirement already up-to-date: sentence-transformers in /usr/local/lib/python3.6/dist-packages (0.3.9)\n",
            "Requirement already satisfied, skipping upgrade: torch>=1.6.0 in /usr/local/lib/python3.6/dist-packages (from sentence-transformers) (1.7.0+cu101)\n",
            "Requirement already satisfied, skipping upgrade: scipy in /usr/local/lib/python3.6/dist-packages (from sentence-transformers) (1.4.1)\n",
            "Requirement already satisfied, skipping upgrade: scikit-learn in /usr/local/lib/python3.6/dist-packages (from sentence-transformers) (0.22.2.post1)\n",
            "Requirement already satisfied, skipping upgrade: tqdm in /usr/local/lib/python3.6/dist-packages (from sentence-transformers) (4.41.1)\n",
            "Requirement already satisfied, skipping upgrade: numpy in /usr/local/lib/python3.6/dist-packages (from sentence-transformers) (1.18.5)\n",
            "Requirement already satisfied, skipping upgrade: nltk in /usr/local/lib/python3.6/dist-packages (from sentence-transformers) (3.2.5)\n",
            "Requirement already satisfied, skipping upgrade: transformers<3.6.0,>=3.1.0 in /usr/local/lib/python3.6/dist-packages (from sentence-transformers) (3.5.1)\n",
            "Requirement already satisfied, skipping upgrade: dataclasses in /usr/local/lib/python3.6/dist-packages (from torch>=1.6.0->sentence-transformers) (0.7)\n",
            "Requirement already satisfied, skipping upgrade: future in /usr/local/lib/python3.6/dist-packages (from torch>=1.6.0->sentence-transformers) (0.16.0)\n",
            "Requirement already satisfied, skipping upgrade: typing-extensions in /usr/local/lib/python3.6/dist-packages (from torch>=1.6.0->sentence-transformers) (3.7.4.3)\n",
            "Requirement already satisfied, skipping upgrade: joblib>=0.11 in /usr/local/lib/python3.6/dist-packages (from scikit-learn->sentence-transformers) (0.17.0)\n",
            "Requirement already satisfied, skipping upgrade: six in /usr/local/lib/python3.6/dist-packages (from nltk->sentence-transformers) (1.15.0)\n",
            "Requirement already satisfied, skipping upgrade: packaging in /usr/local/lib/python3.6/dist-packages (from transformers<3.6.0,>=3.1.0->sentence-transformers) (20.4)\n",
            "Requirement already satisfied, skipping upgrade: sentencepiece==0.1.91 in /usr/local/lib/python3.6/dist-packages (from transformers<3.6.0,>=3.1.0->sentence-transformers) (0.1.91)\n",
            "Requirement already satisfied, skipping upgrade: tokenizers==0.9.3 in /usr/local/lib/python3.6/dist-packages (from transformers<3.6.0,>=3.1.0->sentence-transformers) (0.9.3)\n",
            "Requirement already satisfied, skipping upgrade: regex!=2019.12.17 in /usr/local/lib/python3.6/dist-packages (from transformers<3.6.0,>=3.1.0->sentence-transformers) (2019.12.20)\n",
            "Requirement already satisfied, skipping upgrade: protobuf in /usr/local/lib/python3.6/dist-packages (from transformers<3.6.0,>=3.1.0->sentence-transformers) (3.12.4)\n",
            "Requirement already satisfied, skipping upgrade: filelock in /usr/local/lib/python3.6/dist-packages (from transformers<3.6.0,>=3.1.0->sentence-transformers) (3.0.12)\n",
            "Requirement already satisfied, skipping upgrade: sacremoses in /usr/local/lib/python3.6/dist-packages (from transformers<3.6.0,>=3.1.0->sentence-transformers) (0.0.43)\n",
            "Requirement already satisfied, skipping upgrade: requests in /usr/local/lib/python3.6/dist-packages (from transformers<3.6.0,>=3.1.0->sentence-transformers) (2.23.0)\n",
            "Requirement already satisfied, skipping upgrade: pyparsing>=2.0.2 in /usr/local/lib/python3.6/dist-packages (from packaging->transformers<3.6.0,>=3.1.0->sentence-transformers) (2.4.7)\n",
            "Requirement already satisfied, skipping upgrade: setuptools in /usr/local/lib/python3.6/dist-packages (from protobuf->transformers<3.6.0,>=3.1.0->sentence-transformers) (50.3.2)\n",
            "Requirement already satisfied, skipping upgrade: click in /usr/local/lib/python3.6/dist-packages (from sacremoses->transformers<3.6.0,>=3.1.0->sentence-transformers) (7.1.2)\n",
            "Requirement already satisfied, skipping upgrade: certifi>=2017.4.17 in /usr/local/lib/python3.6/dist-packages (from requests->transformers<3.6.0,>=3.1.0->sentence-transformers) (2020.6.20)\n",
            "Requirement already satisfied, skipping upgrade: idna<3,>=2.5 in /usr/local/lib/python3.6/dist-packages (from requests->transformers<3.6.0,>=3.1.0->sentence-transformers) (2.10)\n",
            "Requirement already satisfied, skipping upgrade: urllib3!=1.25.0,!=1.25.1,<1.26,>=1.21.1 in /usr/local/lib/python3.6/dist-packages (from requests->transformers<3.6.0,>=3.1.0->sentence-transformers) (1.24.3)\n",
            "Requirement already satisfied, skipping upgrade: chardet<4,>=3.0.2 in /usr/local/lib/python3.6/dist-packages (from requests->transformers<3.6.0,>=3.1.0->sentence-transformers) (3.0.4)\n"
          ],
          "name": "stdout"
        }
      ]
    },
    {
      "cell_type": "code",
      "metadata": {
        "id": "eY_5PW5dmH_l"
      },
      "source": [
        "import numpy as np\n",
        "import torch\n",
        "import os\n",
        "import pandas as pd\n",
        "import faiss\n",
        "import time\n",
        "from sentence_transformers import SentenceTransformer"
      ],
      "execution_count": 1,
      "outputs": []
    },
    {
      "cell_type": "code",
      "metadata": {
        "colab": {
          "base_uri": "https://localhost:8080/"
        },
        "id": "AMBzHppdmg7r",
        "outputId": "a4580049-c441-43e9-d40a-da551793009d"
      },
      "source": [
        "!wget https://github.com/franciscadias/data/raw/master/abcnews-date-text.csv"
      ],
      "execution_count": 6,
      "outputs": [
        {
          "output_type": "stream",
          "text": [
            "--2020-11-22 04:02:17--  https://github.com/franciscadias/data/raw/master/abcnews-date-text.csv\n",
            "Resolving github.com (github.com)... 140.82.114.3\n",
            "Connecting to github.com (github.com)|140.82.114.3|:443... connected.\n",
            "HTTP request sent, awaiting response... 302 Found\n",
            "Location: https://raw.githubusercontent.com/franciscadias/data/master/abcnews-date-text.csv [following]\n",
            "--2020-11-22 04:02:17--  https://raw.githubusercontent.com/franciscadias/data/master/abcnews-date-text.csv\n",
            "Resolving raw.githubusercontent.com (raw.githubusercontent.com)... 151.101.0.133, 151.101.64.133, 151.101.128.133, ...\n",
            "Connecting to raw.githubusercontent.com (raw.githubusercontent.com)|151.101.0.133|:443... connected.\n",
            "HTTP request sent, awaiting response... 200 OK\n",
            "Length: 54096356 (52M) [text/plain]\n",
            "Saving to: ‘abcnews-date-text.csv.1’\n",
            "\n",
            "abcnews-date-text.c 100%[===================>]  51.59M   245MB/s    in 0.2s    \n",
            "\n",
            "2020-11-22 04:02:18 (245 MB/s) - ‘abcnews-date-text.csv.1’ saved [54096356/54096356]\n",
            "\n"
          ],
          "name": "stdout"
        }
      ]
    },
    {
      "cell_type": "markdown",
      "metadata": {
        "id": "VS0ULB6dm2mG"
      },
      "source": [
        "### 加载并查看数据"
      ]
    },
    {
      "cell_type": "code",
      "metadata": {
        "id": "TWR8fstbmXIm"
      },
      "source": [
        "df=pd.read_csv(\"abcnews-date-text.csv\")\n",
        "data=df.headline_text.to_list()"
      ],
      "execution_count": 2,
      "outputs": []
    },
    {
      "cell_type": "code",
      "metadata": {
        "colab": {
          "base_uri": "https://localhost:8080/"
        },
        "id": "WfU_3PuOmox3",
        "outputId": "ed1d956c-be8d-41c0-93ef-4d87ebf5dfc7"
      },
      "source": [
        "data[:10]"
      ],
      "execution_count": 8,
      "outputs": [
        {
          "output_type": "execute_result",
          "data": {
            "text/plain": [
              "['aba decides against community broadcasting licence',\n",
              " 'act fire witnesses must be aware of defamation',\n",
              " 'a g calls for infrastructure protection summit',\n",
              " 'air nz staff in aust strike for pay rise',\n",
              " 'air nz strike to affect australian travellers',\n",
              " 'ambitious olsson wins triple jump',\n",
              " 'antic delighted with record breaking barca',\n",
              " 'aussie qualifier stosur wastes four memphis match',\n",
              " 'aust addresses un security council over iraq',\n",
              " 'australia is locked into war timetable opp']"
            ]
          },
          "metadata": {
            "tags": []
          },
          "execution_count": 8
        }
      ]
    },
    {
      "cell_type": "markdown",
      "metadata": {
        "id": "qT_QU2FCnUql"
      },
      "source": [
        "### 加载预训练模型并且进行推断"
      ]
    },
    {
      "cell_type": "code",
      "metadata": {
        "id": "L30Sj7ddnWFm"
      },
      "source": [
        "model = SentenceTransformer('distilbert-base-nli-mean-tokens', device='cuda')"
      ],
      "execution_count": 3,
      "outputs": []
    },
    {
      "cell_type": "code",
      "metadata": {
        "id": "rOYZBIIoMILU"
      },
      "source": [
        "encoded_data = model.encode(data)"
      ],
      "execution_count": null,
      "outputs": []
    },
    {
      "cell_type": "code",
      "metadata": {
        "colab": {
          "base_uri": "https://localhost:8080/"
        },
        "id": "Hp3wFqfUoIaE",
        "outputId": "ecc41062-eb21-442c-c570-02409a4094df"
      },
      "source": [
        "encoded_data.shape"
      ],
      "execution_count": 11,
      "outputs": [
        {
          "output_type": "execute_result",
          "data": {
            "text/plain": [
              "(1082168, 768)"
            ]
          },
          "metadata": {
            "tags": []
          },
          "execution_count": 11
        }
      ]
    },
    {
      "cell_type": "markdown",
      "metadata": {
        "id": "HCIg5jMunL8N"
      },
      "source": [
        "### 为数据集编制索引"
      ]
    },
    {
      "cell_type": "code",
      "metadata": {
        "id": "c_jBQ68VLGvt"
      },
      "source": [
        "index = faiss.IndexIDMap(faiss.IndexFlatIP(768))\n",
        "index.add_with_ids(encoded_data, np.array(range(0, len(data))))"
      ],
      "execution_count": 12,
      "outputs": []
    },
    {
      "cell_type": "markdown",
      "metadata": {
        "id": "uQbcSgyVLV4N"
      },
      "source": [
        "#### 序列化索引(将index保存到磁盘)"
      ]
    },
    {
      "cell_type": "code",
      "metadata": {
        "id": "ZToZgAYULT-t"
      },
      "source": [
        "faiss.write_index(index, 'abc_news')"
      ],
      "execution_count": 13,
      "outputs": []
    },
    {
      "cell_type": "markdown",
      "metadata": {
        "id": "Zs7FdsfxLsc4"
      },
      "source": [
        "#### 反序列化索引(从磁盘中读取index)"
      ]
    },
    {
      "cell_type": "code",
      "metadata": {
        "id": "uS1BjoIGLxsq"
      },
      "source": [
        "index = faiss.read_index('abc_news')"
      ],
      "execution_count": 4,
      "outputs": []
    },
    {
      "cell_type": "markdown",
      "metadata": {
        "id": "cY_A4t3YMblz"
      },
      "source": [
        "### 执行语义相似性搜索"
      ]
    },
    {
      "cell_type": "code",
      "metadata": {
        "id": "Nd6uCLnNMekJ"
      },
      "source": [
        "def search(query):\n",
        "  t=time.time()\n",
        "  query_vector = model.encode([query])\n",
        "  k = 5\n",
        "  top_k = index.search(query_vector, k)\n",
        "  print('totaltime: {}'.format(time.time()-t))\n",
        "  return [data[_id] for _id in top_k[1].tolist()[0]]"
      ],
      "execution_count": 14,
      "outputs": []
    },
    {
      "cell_type": "code",
      "metadata": {
        "colab": {
          "base_uri": "https://localhost:8080/"
        },
        "id": "pzh6EOkHMkog",
        "outputId": "9c346446-76f5-47b3-e90c-865c8534771d"
      },
      "source": [
        "results=search(\"test news title\")"
      ],
      "execution_count": 16,
      "outputs": [
        {
          "output_type": "stream",
          "text": [
            "totaltime: 1.1659197807312012\n"
          ],
          "name": "stdout"
        }
      ]
    },
    {
      "cell_type": "code",
      "metadata": {
        "colab": {
          "base_uri": "https://localhost:8080/"
        },
        "id": "iH2FuHyOMx_1",
        "outputId": "188334bf-e7e4-4c13-b319-454547c99768"
      },
      "source": [
        "print(results)"
      ],
      "execution_count": 17,
      "outputs": [
        {
          "output_type": "stream",
          "text": [
            "['test article', 'test preview', 'news quiz', 'news quiz', 'news quiz']\n"
          ],
          "name": "stdout"
        }
      ]
    },
    {
      "cell_type": "markdown",
      "metadata": {
        "id": "uT7_Oy2xNX-Y"
      },
      "source": [
        "### GPU faiss"
      ]
    },
    {
      "cell_type": "code",
      "metadata": {
        "colab": {
          "base_uri": "https://localhost:8080/",
          "height": 374
        },
        "id": "eYlQJwj_Naqu",
        "outputId": "ad968e06-ba2c-4a65-e645-c5db97fd894b"
      },
      "source": [
        "!pip uninstall faiss-cpu\n",
        "!pip install faiss-gpu"
      ],
      "execution_count": 18,
      "outputs": [
        {
          "output_type": "stream",
          "text": [
            "Uninstalling faiss-cpu-1.6.4.post2:\n",
            "  Would remove:\n",
            "    /usr/local/lib/python3.6/dist-packages/faiss/*\n",
            "    /usr/local/lib/python3.6/dist-packages/faiss_cpu-1.6.4.post2.dist-info/*\n",
            "    /usr/local/lib/python3.6/dist-packages/faiss_cpu.libs/libgfortran-040039e1.so.5.0.0\n",
            "    /usr/local/lib/python3.6/dist-packages/faiss_cpu.libs/libgomp-7c85b1e2.so.1.0.0\n",
            "    /usr/local/lib/python3.6/dist-packages/faiss_cpu.libs/libquadmath-30d679e1.so.0.0.0\n",
            "    /usr/local/lib/python3.6/dist-packages/faiss_cpu.libs/libz-d8a329de.so.1.2.7\n",
            "Proceed (y/n)? y\n",
            "  Successfully uninstalled faiss-cpu-1.6.4.post2\n",
            "y\n",
            "Collecting faiss-gpu\n",
            "\u001b[?25l  Downloading https://files.pythonhosted.org/packages/5a/6b/1e316d731ce94821854cd54d04b4a0dd3e3c5d47292d9a373b56a8e19a8f/faiss_gpu-1.6.4.post2-cp36-cp36m-manylinux2014_x86_64.whl (67.6MB)\n",
            "\u001b[K     |████████████████████████████████| 67.6MB 50kB/s \n",
            "\u001b[?25hInstalling collected packages: faiss-gpu\n",
            "Successfully installed faiss-gpu-1.6.4.post2\n"
          ],
          "name": "stdout"
        },
        {
          "output_type": "display_data",
          "data": {
            "application/vnd.colab-display-data+json": {
              "pip_warning": {
                "packages": [
                  "faiss"
                ]
              }
            }
          },
          "metadata": {
            "tags": []
          }
        }
      ]
    },
    {
      "cell_type": "code",
      "metadata": {
        "id": "Sz2hLqItOFCy"
      },
      "source": [
        "res = faiss.StandardGpuResources()\n",
        "gpu_index = faiss.index_cpu_to_gpu(res, 0, index)"
      ],
      "execution_count": 5,
      "outputs": []
    },
    {
      "cell_type": "code",
      "metadata": {
        "id": "lp9l4WteOUMV"
      },
      "source": [
        "def search_gpu(query):\n",
        "  t=time.time()\n",
        "  query_vector = model.encode([query])\n",
        "  k = 5\n",
        "  top_k = gpu_index.search(query_vector, k)  # only diff\n",
        "  print('totaltime: {}'.format(time.time()-t))\n",
        "  return [data[_id] for _id in top_k[1].tolist()[0]]"
      ],
      "execution_count": 6,
      "outputs": []
    },
    {
      "cell_type": "code",
      "metadata": {
        "colab": {
          "base_uri": "https://localhost:8080/"
        },
        "id": "kwBTKh3HOnXC",
        "outputId": "583151ac-89dd-4691-9041-f816ba828686"
      },
      "source": [
        "results=search_gpu(\"test news title\")"
      ],
      "execution_count": 9,
      "outputs": [
        {
          "output_type": "stream",
          "text": [
            "totaltime: 0.056054115295410156\n"
          ],
          "name": "stdout"
        }
      ]
    },
    {
      "cell_type": "code",
      "metadata": {
        "colab": {
          "base_uri": "https://localhost:8080/"
        },
        "id": "M0Ns88y1PYVI",
        "outputId": "a7d0f7bb-7ad9-4004-82ef-e2f1713a2d9c"
      },
      "source": [
        "print(results)"
      ],
      "execution_count": 10,
      "outputs": [
        {
          "output_type": "stream",
          "text": [
            "['test article', 'test preview', 'news quiz', 'news quiz', 'news quiz']\n"
          ],
          "name": "stdout"
        }
      ]
    }
  ]
}